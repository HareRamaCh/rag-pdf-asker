{
 "cells": [
  {
   "cell_type": "code",
   "execution_count": 49,
   "metadata": {},
   "outputs": [],
   "source": [
    "import os\n",
    "from dotenv import load_dotenv\n",
    "\n",
    "load_dotenv()\n",
    "\n",
    "GOOGLE_API_KEY = os.getenv(\"GOOGLE_API_KEY\")\n",
    "\n",
    "#MODEL = \"gemini-pro\" # Chat model, returns AIMessage object\n",
    "MODEL = \"llama2\" # Completion model, returns string \n",
    "#MODEL = \"llama3\""
   ]
  },
  {
   "cell_type": "code",
   "execution_count": 50,
   "metadata": {},
   "outputs": [
    {
     "data": {
      "text/plain": [
       "'Why was the math book sad? Because it had too many problems! 😂'"
      ]
     },
     "execution_count": 50,
     "metadata": {},
     "output_type": "execute_result"
    }
   ],
   "source": [
    "from langchain_google_genai import ChatGoogleGenerativeAI\n",
    "from langchain_google_genai import GoogleGenerativeAIEmbeddings\n",
    "from langchain_community.llms import Ollama\n",
    "from langchain_community.embeddings import OllamaEmbeddings\n",
    "\n",
    "if MODEL.startswith(\"gemini\"):\n",
    "    model = ChatGoogleGenerativeAI(api_key=GOOGLE_API_KEY, model=MODEL)\n",
    "    embeddings = GoogleGenerativeAIEmbeddings(model=\"models/embedding-001\")\n",
    "else:\n",
    "    model = Ollama(model=MODEL)\n",
    "    embeddings = OllamaEmbeddings()\n",
    "model.invoke(\"Tell me a joke\")\n"
   ]
  },
  {
   "cell_type": "code",
   "execution_count": 51,
   "metadata": {},
   "outputs": [
    {
     "data": {
      "text/plain": [
       "'Why was the math book sad? Because it had too many problems! 😂'"
      ]
     },
     "execution_count": 51,
     "metadata": {},
     "output_type": "execute_result"
    }
   ],
   "source": [
    "from langchain_core.output_parsers import StrOutputParser\n",
    "\n",
    "parser = StrOutputParser()\n",
    "\n",
    "chain = model | parser # Pipeline where model output passed as parser input\n",
    "chain.invoke(\"Tell me a joke\")"
   ]
  },
  {
   "cell_type": "code",
   "execution_count": 52,
   "metadata": {},
   "outputs": [
    {
     "name": "stderr",
     "output_type": "stream",
     "text": [
      "Ignoring wrong pointing object 7 0 (offset 0)\n",
      "Ignoring wrong pointing object 9 0 (offset 0)\n",
      "Ignoring wrong pointing object 14 0 (offset 0)\n",
      "Ignoring wrong pointing object 20 0 (offset 0)\n",
      "Ignoring wrong pointing object 26 0 (offset 0)\n",
      "Ignoring wrong pointing object 38 0 (offset 0)\n",
      "Ignoring wrong pointing object 48 0 (offset 0)\n",
      "Ignoring wrong pointing object 76 0 (offset 0)\n"
     ]
    },
    {
     "data": {
      "text/plain": [
       "[Document(page_content='Building Machine Learning Systems That Don\\'tSuckA live, interactive program that\\'ll help you build production-readymachinelearning systems from the ground up.Next cohort:\\xa0July1 - 18, 2024Check the schedulefor more details about upcoming cohorts.\\nI want to join!Sign inLearn how to design, build, deploy, and scalemachine learningsystems to solve real-world problems.I\\'ll lose my mind if I see another book or course teaching people the same basicideas for the hundredth time. Most people are stuck in beginner mode, and findinghelp to solve real-world problems is hard.I want to change that.I started writing software 30 years ago. I\\'ve written pipelines and trained modelsfor some of the largest companies in the world. I want to show you how to do the\"This is the best machine learning course I\\'ve done.Worth every cent.\"— Jose Reyes, AI/ML at Cevo AustraliaBuilding Machine Learning Systems That Don\\'t Suckhttps://www.ml.school/\\n1 of 1102/06/24, 9:16 pm', metadata={'source': 'mlschool.pdf', 'page': 0}),\n",
       " Document(page_content=\"same.This is the class I wish I had taken when I started.This program will help you unlearn what you think machine learning is. It's apractical, hands-on class where you'll learn from years of experience and real-world examples.When you join, you get lifetime access to the following:18 hours of live, interactive sessions. We'll use this time to discuss the firstprinciples behind building machine learning systems.10 hours of step-by-step coding instructions. These practical sessions willshow you how to build an end-to-end system from scratch.A final project where you'll build a complete solution and receive directfeedback on your work.100 coding assignments and practice questions.The entire source code of a working production system. It's yours. You canchange and use it as you see fit.A private community where you'll collaborate with thousands of people fromdifferent backgrounds.Direct access to your instructor.Lifetime access to every past and future cohort.Program certificate upon completion.And the best part is that you only pay once to join. There are no monthly fees. Noannual fees. No hidden costs. You pay once to join and benefit forever until the endof time.The program won't be easy. It'll take time and effort. But if you want to usemachine learning to solve real-world problems,this is the class you don't want tomiss.Building Machine Learning Systems That Don't Suckhttps://www.ml.school/\\n2 of 1102/06/24, 9:16 pm\", metadata={'source': 'mlschool.pdf', 'page': 1}),\n",
       " Document(page_content='Who Is This Program For?This is a practical, hands-on program for technical professionalswho are ready to put in the work.This program is for software engineers,data scientists,data analysts,machinelearning engineers,technical managers, and anyone anyone who wants to usemachine learning to solve real-world problems.Here are the criteria to succeed in the program:You have experience writing code. We\\'ll use Python throughout the class, butyou won\\'t have any problems if you know any other language.You are familiar with basic machine learning terminology. This is not anintroductory class. We\\'ll move quickly over the basics to focus on thefundamental ideas that make systems work.You are ready to put in the work to succeed.\\n\"I have learned a ton from Santiago in his class and it was actually what helped inspire meand get into the MLOps work that I\\'m doing now. Truly one of the most helpful online coursesfor doing real, full-scale machine learning.\"\\nBrian H. HoughSoftware EngineerBuilding Machine Learning Systems That Don\\'t Suckhttps://www.ml.school/\\n3 of 1102/06/24, 9:16 pm', metadata={'source': 'mlschool.pdf', 'page': 2}),\n",
       " Document(page_content=\"What Will You Learn?You'll come out with practical skills and insights into what it takes tobuild systems that work in the real world.Here is a summary of what makes this program unique:You'll design and write the code to build an end-to-end machine learningsystem starting from scratch.You'll learn best practices to tackle the most significant challenges machinelearning engineers face to build, evaluate, run, monitor, and maintain machinelearning systems in real-world scenarios.You'll learn how to use techniques like active learning, distributed training,adversarial validation, human-in-the-loop deployments, model compression,test-time augmentation, testing in production, among many others.You'll learn how to create training, deploying, monitoring, and inferencepipelines using Amazon SageMaker and open-source tools.Forget about theoretical concepts. This program will show you some of the thingsI've learned from real-life examples I've built during more than 30 years in theindustry.Check the program syllabus\\xa0→Building Machine Learning Systems That Don't Suckhttps://www.ml.school/\\n4 of 1102/06/24, 9:16 pm\", metadata={'source': 'mlschool.pdf', 'page': 3}),\n",
       " Document(page_content=\"Real-life examples and case studiesLearn from practical experience building machinelearning systems that work in the real world.\\nLive, interactive sessionsAsk questions and interact with the instructor andother students in real time.\\nCode walkthroughsStep by step coding instructions to help you builda production system from scratch.Upcoming Schedule\\nBuilding Machine Learning Systems That Don't Suckhttps://www.ml.school/\\n5 of 1102/06/24, 9:16 pm\", metadata={'source': 'mlschool.pdf', 'page': 4}),\n",
       " Document(page_content='Every iteration of the program gives you 18 hours of hands-on, livetraining spread over 3 weeks.Here are the upcoming cohorts:Cohort 14:July 1-July 18, 2024.10:00 AM GMT+2Cohort 15:August 5-August 22, 2024.10:00 AM EDTLive sessions will take place every Monday and Thursday at the same time. OnWednesdays, we\\'ll host office hours when you can bring your questions projects oranything else you want to discuss.Monday: Live session. 2 hours.Tuesday: Individual work.Wednesday: Optional office hours.Thursday: Live session. 2 hours.Friday: Individual work.Do not wait for a specific cohort to join the program. You have lifetime access toevery past and future cohort, and the sooner you join, the more time you have toprepare.Every session is recorded. You can attend live or watch the recorded version later.\\n\"This is one of the best classes I\\'ve ever purchased over the internet. Santiago is a terrificteacher. The ability he has to share knowledge is fantastic. I recommend this course. Worth10x what he\\'s charging.\"\\nBuilding Machine Learning Systems That Don\\'t Suckhttps://www.ml.school/\\n6 of 1102/06/24, 9:16 pm', metadata={'source': 'mlschool.pdf', 'page': 5}),\n",
       " Document(page_content=\"Sal DiStefanoReady To Join The Program?You'll get lifetime access. No monthly fees. No annual fees. Nohidden costs.$450$200Pay once. Access forever.Pay once to join the program and get lifetime access. You can participate in as manyiterations as you'd like. No restrictions.\\nJoin nowEnjoy 18 hours of live, interactive sessionsWatch 10 hours of step-by-step coding instructionsPractice with 100 coding assignmentsAccess the complete source code of a production systemLearn how to start freelancing on UpworkGet feedback and support from the communityGet direct feedback from your instructorBuilding Machine Learning Systems That Don't Suckhttps://www.ml.school/\\n7 of 1102/06/24, 9:16 pm\", metadata={'source': 'mlschool.pdf', 'page': 6}),\n",
       " Document(page_content=\"Program SyllabusThis program will teach you the practical skills and insights that willhelp you build machine learning systems.Here are the contents of the six live sessions of the program:Session 1 - How To Start (Almost) Any Project• What makes production machine learning different from what you've learned.• The strategy to solve the right problem using the right solution.• Critical questions to ask before starting any project.• Problem framing, inversion, and the haystack principle for building successfulapplications.• The first rule of machine learning engineering and how to start building.• Data collection strategies. A technique to determine how much data youneed.• The problem of selection bias and how to deal with it.• Labeling data. Human annotations, natural labels and weak supervision.• Active learning using the uncertainty and diversity sampling strategies.Session 2 - How to Build a Model• The role of data cleaning and feature engineering to build better models.• Turning data into numbers using vectorization techniques.• Producing homogeneous features using normalization and standardization.• Handling and interpreting missing values using imputation techniques.• The approach to choosing the best model to solve any problem.• Random baselines and the zero-rule algorithm.• How to use overfitting to build models that don't suck.Building Machine Learning Systems That Don't Suckhttps://www.ml.school/\\n8 of 1102/06/24, 9:16 pm\", metadata={'source': 'mlschool.pdf', 'page': 7}),\n",
       " Document(page_content='• Hyperparameter tuning and experiment tracking.• Measuring the quality of your holdout set.• An introduction to distributed training using data parallelism and modelparallelism.See the remaining sessions\\n\"This is an awesome course! This is my second round and I continue learning. I recommend itwith complete confidence.\"\\nJuan OlanoMachine Learning EngineerFrequently Asked QuestionsIf you can\\'t find the answer to your question, please reach out onsocial media and I\\'ll be happy to help.How long will it take to complete the program?If you are attending the live sessions, you should set aside a minimum of 4 hoursevery week during the three weeks of the program. This commitment will beenough for engineer leaders or anyone not interested in the coding portion of theprogram.Those interested in implementing the concepts discussed in class should set asideBuilding Machine Learning Systems That Don\\'t Suckhttps://www.ml.school/\\n9 of 1102/06/24, 9:16 pm', metadata={'source': 'mlschool.pdf', 'page': 8}),\n",
       " Document(page_content='2 to 4 hours weekly to complete the code walkthroughs and work on theassignments.Are live sessions recorded?Yes, we record every live session. You can decide when to attend classes live orcatch up asynchronously later using the recording.I\\'m a complete beginner. Is this program helpful for me?This program is not an introduction to machine learning.While we\\'ll discuss many fundamental ideas behind machine learning, beginnerswill find the sessions go much faster than what\\'s optimal for them.What does \"lifetime access\" mean?You only pay once to join the program and get immediate access to every past,present, and future cohort.Every new iteration of the program is better than the ones before. Many studentstake classes once and then join a later cohort to benefit from the updates.The lifetime access removes any pressure from having to complete the programwhen life gets in the way.\\nBuilding Machine Learning Systems That Don\\'t Suckhttps://www.ml.school/\\n10 of 1102/06/24, 9:16 pm', metadata={'source': 'mlschool.pdf', 'page': 9}),\n",
       " Document(page_content=\"Hey! I'm Santiago.I'm the instructor of the program.I'm a machine learning engineer with over two decades of experiencebuilding and scaling enterprise software and machine learning systems.I love neural networks. I love to make them work at scale.From 2009 to 2023, I built products for Disney, Boston Dynamics, IBM,Dell, G4S, Anheuser-Busch, and NextEra Energy, among other clients. Ilearned about trade-offs and how to create products that work.I started this program in March 2023. Since then, thousands of studentshave graduated, and I can't wait to meet you in class.\\nCopyright © 2024 Tideily LLCAll rights reserved.Building Machine Learning Systems That Don't Suckhttps://www.ml.school/\\n11 of 1102/06/24, 9:16 pm\", metadata={'source': 'mlschool.pdf', 'page': 10})]"
      ]
     },
     "execution_count": 52,
     "metadata": {},
     "output_type": "execute_result"
    }
   ],
   "source": [
    "from langchain_community.document_loaders import PyPDFLoader\n",
    "\n",
    "loader = PyPDFLoader(\"mlschool.pdf\")\n",
    "pages = loader.load_and_split()\n",
    "pages"
   ]
  },
  {
   "cell_type": "code",
   "execution_count": 53,
   "metadata": {},
   "outputs": [
    {
     "name": "stdout",
     "output_type": "stream",
     "text": [
      "\n",
      "Answer the question based on the context below. If you can't\n",
      "answer the question, reply \"I don't know\".\n",
      "\n",
      "Context: Here is some context\n",
      "\n",
      "Question: Here is a question\n",
      "\n"
     ]
    }
   ],
   "source": [
    "from langchain.prompts import PromptTemplate\n",
    "\n",
    "template = \"\"\"\n",
    "Answer the question based on the context below. If you can't\n",
    "answer the question, reply \"I don't know\".\n",
    "\n",
    "Context: {context}\n",
    "\n",
    "Question: {question}\n",
    "\"\"\"\n",
    "\n",
    "prompt = PromptTemplate.from_template(template)\n",
    "print(prompt.format(context=\"Here is some context\", question=\"Here is a question\"))"
   ]
  },
  {
   "cell_type": "code",
   "execution_count": 54,
   "metadata": {},
   "outputs": [],
   "source": [
    "chain = prompt | model | parser"
   ]
  },
  {
   "cell_type": "code",
   "execution_count": 55,
   "metadata": {},
   "outputs": [
    {
     "data": {
      "text/plain": [
       "{'title': 'PromptInput',\n",
       " 'type': 'object',\n",
       " 'properties': {'context': {'title': 'Context', 'type': 'string'},\n",
       "  'question': {'title': 'Question', 'type': 'string'}}}"
      ]
     },
     "execution_count": 55,
     "metadata": {},
     "output_type": "execute_result"
    }
   ],
   "source": [
    "chain.input_schema.schema()"
   ]
  },
  {
   "cell_type": "code",
   "execution_count": 56,
   "metadata": {},
   "outputs": [
    {
     "data": {
      "text/plain": [
       "'Of course! Here is my answer based on the context you provided:\\n\\nYes, Socrates is mortal. Since all men are mortal and Socrates is a man, it follows that he is also mortal.'"
      ]
     },
     "execution_count": 56,
     "metadata": {},
     "output_type": "execute_result"
    }
   ],
   "source": [
    "chain.invoke(\n",
    "    {\n",
    "        \"context\": \"Socrates is a man. All men are mortal.\",\n",
    "        \"question\": \"Is Socrates mortal?\" \n",
    "    }\n",
    ")"
   ]
  },
  {
   "cell_type": "code",
   "execution_count": 57,
   "metadata": {},
   "outputs": [],
   "source": [
    "from langchain_community.vectorstores import DocArrayInMemorySearch\n",
    "\n",
    "vectorstore = DocArrayInMemorySearch.from_documents(pages, embedding=embeddings)"
   ]
  },
  {
   "cell_type": "code",
   "execution_count": 61,
   "metadata": {},
   "outputs": [
    {
     "data": {
      "text/plain": [
       "[Document(page_content=\"Real-life examples and case studiesLearn from practical experience building machinelearning systems that work in the real world.\\nLive, interactive sessionsAsk questions and interact with the instructor andother students in real time.\\nCode walkthroughsStep by step coding instructions to help you builda production system from scratch.Upcoming Schedule\\nBuilding Machine Learning Systems That Don't Suckhttps://www.ml.school/\\n5 of 1102/06/24, 9:16 pm\", metadata={'source': 'mlschool.pdf', 'page': 4}),\n",
       " Document(page_content='• Hyperparameter tuning and experiment tracking.• Measuring the quality of your holdout set.• An introduction to distributed training using data parallelism and modelparallelism.See the remaining sessions\\n\"This is an awesome course! This is my second round and I continue learning. I recommend itwith complete confidence.\"\\nJuan OlanoMachine Learning EngineerFrequently Asked QuestionsIf you can\\'t find the answer to your question, please reach out onsocial media and I\\'ll be happy to help.How long will it take to complete the program?If you are attending the live sessions, you should set aside a minimum of 4 hoursevery week during the three weeks of the program. This commitment will beenough for engineer leaders or anyone not interested in the coding portion of theprogram.Those interested in implementing the concepts discussed in class should set asideBuilding Machine Learning Systems That Don\\'t Suckhttps://www.ml.school/\\n9 of 1102/06/24, 9:16 pm', metadata={'source': 'mlschool.pdf', 'page': 8}),\n",
       " Document(page_content='Who Is This Program For?This is a practical, hands-on program for technical professionalswho are ready to put in the work.This program is for software engineers,data scientists,data analysts,machinelearning engineers,technical managers, and anyone anyone who wants to usemachine learning to solve real-world problems.Here are the criteria to succeed in the program:You have experience writing code. We\\'ll use Python throughout the class, butyou won\\'t have any problems if you know any other language.You are familiar with basic machine learning terminology. This is not anintroductory class. We\\'ll move quickly over the basics to focus on thefundamental ideas that make systems work.You are ready to put in the work to succeed.\\n\"I have learned a ton from Santiago in his class and it was actually what helped inspire meand get into the MLOps work that I\\'m doing now. Truly one of the most helpful online coursesfor doing real, full-scale machine learning.\"\\nBrian H. HoughSoftware EngineerBuilding Machine Learning Systems That Don\\'t Suckhttps://www.ml.school/\\n3 of 1102/06/24, 9:16 pm', metadata={'source': 'mlschool.pdf', 'page': 2}),\n",
       " Document(page_content=\"Hey! I'm Santiago.I'm the instructor of the program.I'm a machine learning engineer with over two decades of experiencebuilding and scaling enterprise software and machine learning systems.I love neural networks. I love to make them work at scale.From 2009 to 2023, I built products for Disney, Boston Dynamics, IBM,Dell, G4S, Anheuser-Busch, and NextEra Energy, among other clients. Ilearned about trade-offs and how to create products that work.I started this program in March 2023. Since then, thousands of studentshave graduated, and I can't wait to meet you in class.\\nCopyright © 2024 Tideily LLCAll rights reserved.Building Machine Learning Systems That Don't Suckhttps://www.ml.school/\\n11 of 1102/06/24, 9:16 pm\", metadata={'source': 'mlschool.pdf', 'page': 10})]"
      ]
     },
     "execution_count": 61,
     "metadata": {},
     "output_type": "execute_result"
    }
   ],
   "source": [
    "# Retriever is a langchain component used to retrieve info from anywhere\n",
    "retriever = vectorstore.as_retriever()\n",
    "retriever.invoke(\"Machine Learning\")"
   ]
  },
  {
   "cell_type": "code",
   "execution_count": 62,
   "metadata": {},
   "outputs": [
    {
     "data": {
      "text/plain": [
       "\" Based on the context provided, machine learning appears to be a practical and hands-on program for technical professionals who are ready to put in the work to learn how to solve real-world problems using machine learning. The program covers various topics such as hyperparameter tuning, experiment tracking, distributed training, and more.\\n\\nFrom the context, it can be inferred that machine learning is a field of study focused on building machine learning systems that don't suck, which means the program is designed to help professionals build practical and reliable machine learning systems. The program also covers real-life examples and case studies, live, interactive sessions with the instructor and other students, and code walkthroughs to help learners build a production system from scratch.\\n\\nTherefore, based on the context provided, machine learning appears to be a field of study that involves building practical and reliable machine learning systems using various techniques and tools.\""
      ]
     },
     "execution_count": 62,
     "metadata": {},
     "output_type": "execute_result"
    }
   ],
   "source": [
    "from operator import itemgetter\n",
    "\n",
    "chain = (\n",
    "    {\n",
    "        \"context\": itemgetter(\"question\") | retriever,\n",
    "        \"question\": itemgetter(\"question\")\n",
    "    }\n",
    "    | prompt \n",
    "    | model \n",
    "    | parser)\n",
    "\n",
    "chain.invoke({\"question\": \"What is machine learning?\"})"
   ]
  },
  {
   "cell_type": "code",
   "execution_count": null,
   "metadata": {},
   "outputs": [],
   "source": [
    "questions = [\n",
    "    \"What is the purpose of the course?\",\n",
    "    \"How many hours of live sessions?\",\n",
    "    \"How many coding assignments are there in the program?\",\n",
    "    \"Is there a program certificate upon completion?\",\n",
    "    \"What programming language will be used in the program?\",\n",
    "    \"How much does the program cost?\",\n",
    "]\n",
    "\n",
    "for question in questions:\n",
    "    print(f\"Question: {question}\")\n",
    "    print(f\"Answer: {chain.invoke({'question': question})}\")\n",
    "    print()"
   ]
  }
 ],
 "metadata": {
  "kernelspec": {
   "display_name": ".venv",
   "language": "python",
   "name": "python3"
  },
  "language_info": {
   "codemirror_mode": {
    "name": "ipython",
    "version": 3
   },
   "file_extension": ".py",
   "mimetype": "text/x-python",
   "name": "python",
   "nbconvert_exporter": "python",
   "pygments_lexer": "ipython3",
   "version": "3.10.13"
  }
 },
 "nbformat": 4,
 "nbformat_minor": 2
}
